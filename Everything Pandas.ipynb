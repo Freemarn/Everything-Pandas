{
 "cells": [
  {
   "cell_type": "markdown",
   "metadata": {},
   "source": [
    "## Intro to PanDas\n",
    "\n",
    "###### Pandas is used for working with Data sets. it is used for analyzing, cleaning, and manipulating adata.\n",
    "\n",
    "###### The word pandas has reference to both \"Panel Data\" as well as \"Python Data Analysis \"\n",
    "\n",
    "###### we need pandas to help us clean messy Data, Analyse the clean Data and come up with conclusions  based on existing theories."
   ]
  },
  {
   "cell_type": "markdown",
   "metadata": {},
   "source": [
    "# What can PANDAS do?"
   ]
  },
  {
   "cell_type": "markdown",
   "metadata": {},
   "source": [
    "###### pandas can help a data scientist to\n",
    "###### 1) Clean Data\n",
    "###### 2) Make Correlations between columns\n",
    "###### 3) Remove empty rows, columns and NaN values from a Data Set \n",
    "###### 4) Compute min, max as well as average values or mean"
   ]
  },
  {
   "cell_type": "markdown",
   "metadata": {},
   "source": [
    "# Part 1"
   ]
  },
  {
   "cell_type": "markdown",
   "metadata": {},
   "source": [
    "## Importing Pandas and Creating my First Data Frame"
   ]
  },
  {
   "cell_type": "code",
   "execution_count": 23,
   "metadata": {},
   "outputs": [
    {
     "name": "stdout",
     "output_type": "stream",
     "text": [
      "0.24.2\n"
     ]
    }
   ],
   "source": [
    "# Check Pandas Version\n",
    "print(pd.__version__)"
   ]
  },
  {
   "cell_type": "code",
   "execution_count": 13,
   "metadata": {},
   "outputs": [],
   "source": [
    "import pandas as pd\n",
    "from pandas import DataFrame"
   ]
  },
  {
   "cell_type": "code",
   "execution_count": 20,
   "metadata": {},
   "outputs": [],
   "source": [
    "myDataSet = {\n",
    "    \"S/N\" : [1,2,3,4],\n",
    "    \"Cars\" : [\"Ford\",\"Jeep\",\"Lambo\",\"Limo\"],\n",
    "    \"Owners\" : [\"Emmy\", \"Giddy\", \"Ceejay\", \"Matty\"],\n",
    "    \"Prices\" :[900,550,650,780]\n",
    "}"
   ]
  },
  {
   "cell_type": "code",
   "execution_count": 21,
   "metadata": {},
   "outputs": [
    {
     "name": "stdout",
     "output_type": "stream",
     "text": [
      "{'S/N': [1, 2, 3, 4], 'Cars': ['Ford', 'Jeep', 'Lambo', 'Limo'], 'Owners': ['Emmy', 'Giddy', 'Ceejay', 'Matty'], 'Prices': [900, 550, 650, 780]}\n"
     ]
    }
   ],
   "source": [
    "print(myDataSet)\n",
    "myData = pd.DataFrame(myDataSet)"
   ]
  },
  {
   "cell_type": "code",
   "execution_count": 22,
   "metadata": {},
   "outputs": [
    {
     "data": {
      "text/html": [
       "<div>\n",
       "<style scoped>\n",
       "    .dataframe tbody tr th:only-of-type {\n",
       "        vertical-align: middle;\n",
       "    }\n",
       "\n",
       "    .dataframe tbody tr th {\n",
       "        vertical-align: top;\n",
       "    }\n",
       "\n",
       "    .dataframe thead th {\n",
       "        text-align: right;\n",
       "    }\n",
       "</style>\n",
       "<table border=\"1\" class=\"dataframe\">\n",
       "  <thead>\n",
       "    <tr style=\"text-align: right;\">\n",
       "      <th></th>\n",
       "      <th>S/N</th>\n",
       "      <th>Cars</th>\n",
       "      <th>Owners</th>\n",
       "      <th>Prices</th>\n",
       "    </tr>\n",
       "  </thead>\n",
       "  <tbody>\n",
       "    <tr>\n",
       "      <th>0</th>\n",
       "      <td>1</td>\n",
       "      <td>Ford</td>\n",
       "      <td>Emmy</td>\n",
       "      <td>900</td>\n",
       "    </tr>\n",
       "    <tr>\n",
       "      <th>1</th>\n",
       "      <td>2</td>\n",
       "      <td>Jeep</td>\n",
       "      <td>Giddy</td>\n",
       "      <td>550</td>\n",
       "    </tr>\n",
       "    <tr>\n",
       "      <th>2</th>\n",
       "      <td>3</td>\n",
       "      <td>Lambo</td>\n",
       "      <td>Ceejay</td>\n",
       "      <td>650</td>\n",
       "    </tr>\n",
       "    <tr>\n",
       "      <th>3</th>\n",
       "      <td>4</td>\n",
       "      <td>Limo</td>\n",
       "      <td>Matty</td>\n",
       "      <td>780</td>\n",
       "    </tr>\n",
       "  </tbody>\n",
       "</table>\n",
       "</div>"
      ],
      "text/plain": [
       "   S/N   Cars  Owners  Prices\n",
       "0    1   Ford    Emmy     900\n",
       "1    2   Jeep   Giddy     550\n",
       "2    3  Lambo  Ceejay     650\n",
       "3    4   Limo   Matty     780"
      ]
     },
     "execution_count": 22,
     "metadata": {},
     "output_type": "execute_result"
    }
   ],
   "source": [
    "myData"
   ]
  },
  {
   "cell_type": "markdown",
   "metadata": {},
   "source": [
    "# PART 2"
   ]
  },
  {
   "cell_type": "markdown",
   "metadata": {},
   "source": [
    "## Pandas Series\n",
    "###### A pandas Series is like a Column in a table"
   ]
  },
  {
   "cell_type": "code",
   "execution_count": 26,
   "metadata": {},
   "outputs": [
    {
     "name": "stdout",
     "output_type": "stream",
     "text": [
      "0    2\n",
      "1    4\n",
      "2    7\n",
      "dtype: int64\n"
     ]
    }
   ],
   "source": [
    "# Create a pandas Series\n",
    "a = [2,4,7]\n",
    "Ser = pd.Series(a)\n",
    "print(Ser)"
   ]
  },
  {
   "cell_type": "code",
   "execution_count": 28,
   "metadata": {},
   "outputs": [
    {
     "data": {
      "text/plain": [
       "7"
      ]
     },
     "execution_count": 28,
     "metadata": {},
     "output_type": "execute_result"
    }
   ],
   "source": [
    "# index your pandas Series\n",
    "Ser[0]\n",
    "Ser[1]\n",
    "Ser[2]"
   ]
  },
  {
   "cell_type": "code",
   "execution_count": 30,
   "metadata": {},
   "outputs": [
    {
     "name": "stdout",
     "output_type": "stream",
     "text": [
      "x    2.0\n",
      "y    4.0\n",
      "z    7.0\n",
      "dtype: float64\n"
     ]
    }
   ],
   "source": [
    "#label the index of each item in the Series\n",
    "SerInd = pd.Series(a, index = [\"x\", \"y\", \"z\"], dtype = \"float\")\n",
    "print(SerInd)"
   ]
  },
  {
   "cell_type": "code",
   "execution_count": 35,
   "metadata": {},
   "outputs": [
    {
     "name": "stdout",
     "output_type": "stream",
     "text": [
      "2.0\n"
     ]
    }
   ],
   "source": [
    "#index each labelled item\n",
    "print(SerInd[\"x\"])"
   ]
  },
  {
   "cell_type": "code",
   "execution_count": 37,
   "metadata": {},
   "outputs": [
    {
     "name": "stdout",
     "output_type": "stream",
     "text": [
      "4.0\n"
     ]
    }
   ],
   "source": [
    "print(SerInd[\"y\"])"
   ]
  },
  {
   "cell_type": "markdown",
   "metadata": {},
   "source": [
    "## Key Value Objects as Series"
   ]
  },
  {
   "cell_type": "code",
   "execution_count": 43,
   "metadata": {},
   "outputs": [
    {
     "name": "stdout",
     "output_type": "stream",
     "text": [
      "{'Day 1': 240, 'Day 2': 320, 'Day 3': 420.0}\n"
     ]
    }
   ],
   "source": [
    "import pandas as pd\n",
    "Calories = {\n",
    "    \"Day 1\" : 240,\n",
    "    \"Day 2\" : 320,\n",
    "    \"Day 3\" : 420.\n",
    "}\n",
    "print(Calories)\n",
    "# Note -- The key Becomes the label, hence they can be indexed by the key."
   ]
  },
  {
   "cell_type": "code",
   "execution_count": 44,
   "metadata": {},
   "outputs": [],
   "source": [
    "DictSer = pd.Series(Calories)"
   ]
  },
  {
   "cell_type": "code",
   "execution_count": 45,
   "metadata": {},
   "outputs": [
    {
     "data": {
      "text/plain": [
       "Day 1    240.0\n",
       "Day 2    320.0\n",
       "Day 3    420.0\n",
       "dtype: float64"
      ]
     },
     "execution_count": 45,
     "metadata": {},
     "output_type": "execute_result"
    }
   ],
   "source": [
    "DictSer"
   ]
  },
  {
   "cell_type": "code",
   "execution_count": 47,
   "metadata": {},
   "outputs": [
    {
     "data": {
      "text/plain": [
       "240.0"
      ]
     },
     "execution_count": 47,
     "metadata": {},
     "output_type": "execute_result"
    }
   ],
   "source": [
    "#index each item using the Key\n",
    "DictSer[\"Day 1\"]"
   ]
  },
  {
   "cell_type": "code",
   "execution_count": 48,
   "metadata": {},
   "outputs": [
    {
     "data": {
      "text/plain": [
       "320.0"
      ]
     },
     "execution_count": 48,
     "metadata": {},
     "output_type": "execute_result"
    }
   ],
   "source": [
    "DictSer[\"Day 2\"]"
   ]
  },
  {
   "cell_type": "code",
   "execution_count": 51,
   "metadata": {},
   "outputs": [
    {
     "name": "stdout",
     "output_type": "stream",
     "text": [
      "Day 1    240.0\n",
      "Day 2    320.0\n",
      "dtype: float64\n"
     ]
    }
   ],
   "source": [
    "#Create a Data frame with just Day 1 and Day 2\n",
    "SerInd1 = pd.Series(Calories, index = [\"Day 1\", \"Day 2\"])\n",
    "print(SerInd1)"
   ]
  },
  {
   "cell_type": "markdown",
   "metadata": {},
   "source": [
    "# PART 3"
   ]
  },
  {
   "cell_type": "markdown",
   "metadata": {},
   "source": [
    "#### Pandas Data frame\n",
    "###### A panda Dataframe is like a 2Dimensional table with rows and columns."
   ]
  },
  {
   "cell_type": "code",
   "execution_count": 59,
   "metadata": {},
   "outputs": [
    {
     "data": {
      "text/html": [
       "<div>\n",
       "<style scoped>\n",
       "    .dataframe tbody tr th:only-of-type {\n",
       "        vertical-align: middle;\n",
       "    }\n",
       "\n",
       "    .dataframe tbody tr th {\n",
       "        vertical-align: top;\n",
       "    }\n",
       "\n",
       "    .dataframe thead th {\n",
       "        text-align: right;\n",
       "    }\n",
       "</style>\n",
       "<table border=\"1\" class=\"dataframe\">\n",
       "  <thead>\n",
       "    <tr style=\"text-align: right;\">\n",
       "      <th></th>\n",
       "      <th>Name</th>\n",
       "      <th>Age</th>\n",
       "      <th>Year</th>\n",
       "    </tr>\n",
       "  </thead>\n",
       "  <tbody>\n",
       "    <tr>\n",
       "      <th>0</th>\n",
       "      <td>Imma</td>\n",
       "      <td>23</td>\n",
       "      <td>1999</td>\n",
       "    </tr>\n",
       "    <tr>\n",
       "      <th>1</th>\n",
       "      <td>Segun</td>\n",
       "      <td>24</td>\n",
       "      <td>1998</td>\n",
       "    </tr>\n",
       "    <tr>\n",
       "      <th>2</th>\n",
       "      <td>Taye</td>\n",
       "      <td>22</td>\n",
       "      <td>2000</td>\n",
       "    </tr>\n",
       "  </tbody>\n",
       "</table>\n",
       "</div>"
      ],
      "text/plain": [
       "    Name  Age  Year\n",
       "0   Imma   23  1999\n",
       "1  Segun   24  1998\n",
       "2   Taye   22  2000"
      ]
     },
     "execution_count": 59,
     "metadata": {},
     "output_type": "execute_result"
    }
   ],
   "source": [
    "#Create a pandas Dataframe\n",
    "import pandas as pd\n",
    "myFrame = {\n",
    "    \"Name\": [\"Imma\", \"Segun\", \"Taye\"],\n",
    "    \"Age\" : [23,24,22],\n",
    "    \"Year\" : [1999, 1998, 2000]\n",
    "}\n",
    "#Load Data into a Dataframe Object\n",
    "df = pd.DataFrame(myFrame)\n",
    "df"
   ]
  },
  {
   "cell_type": "markdown",
   "metadata": {},
   "source": [
    "###### from the Above, the Data frame is like row and columns, hence pandas uses the \"variable name.loc[index]\" attribute to return one or more specified rows."
   ]
  },
  {
   "cell_type": "code",
   "execution_count": 56,
   "metadata": {},
   "outputs": [
    {
     "name": "stdout",
     "output_type": "stream",
     "text": [
      "Name    Imma\n",
      "Age       23\n",
      "Year    1999\n",
      "Name: 0, dtype: object\n"
     ]
    }
   ],
   "source": [
    "# Index a specified row\n",
    "print(df.loc[0])"
   ]
  },
  {
   "cell_type": "code",
   "execution_count": 60,
   "metadata": {},
   "outputs": [
    {
     "name": "stdout",
     "output_type": "stream",
     "text": [
      "Name    Segun\n",
      "Age        24\n",
      "Year     1998\n",
      "Name: 1, dtype: object\n"
     ]
    }
   ],
   "source": [
    "print(df.loc[1])"
   ]
  },
  {
   "cell_type": "code",
   "execution_count": 65,
   "metadata": {},
   "outputs": [
    {
     "name": "stdout",
     "output_type": "stream",
     "text": [
      "    Name  Age  Year\n",
      "0   Imma   23  1999\n",
      "1  Segun   24  1998\n",
      "2   Taye   22  2000\n"
     ]
    }
   ],
   "source": [
    "#use a list of indexes\n",
    "print(df.loc[[0,1,2]])"
   ]
  },
  {
   "cell_type": "code",
   "execution_count": 72,
   "metadata": {},
   "outputs": [
    {
     "data": {
      "text/html": [
       "<div>\n",
       "<style scoped>\n",
       "    .dataframe tbody tr th:only-of-type {\n",
       "        vertical-align: middle;\n",
       "    }\n",
       "\n",
       "    .dataframe tbody tr th {\n",
       "        vertical-align: top;\n",
       "    }\n",
       "\n",
       "    .dataframe thead th {\n",
       "        text-align: right;\n",
       "    }\n",
       "</style>\n",
       "<table border=\"1\" class=\"dataframe\">\n",
       "  <thead>\n",
       "    <tr style=\"text-align: right;\">\n",
       "      <th></th>\n",
       "      <th>Name</th>\n",
       "      <th>Age</th>\n",
       "      <th>Year</th>\n",
       "    </tr>\n",
       "  </thead>\n",
       "  <tbody>\n",
       "    <tr>\n",
       "      <th>1st</th>\n",
       "      <td>Imma</td>\n",
       "      <td>23</td>\n",
       "      <td>1999</td>\n",
       "    </tr>\n",
       "    <tr>\n",
       "      <th>2nd</th>\n",
       "      <td>Segun</td>\n",
       "      <td>24</td>\n",
       "      <td>1998</td>\n",
       "    </tr>\n",
       "    <tr>\n",
       "      <th>3rd</th>\n",
       "      <td>Taye</td>\n",
       "      <td>22</td>\n",
       "      <td>2000</td>\n",
       "    </tr>\n",
       "  </tbody>\n",
       "</table>\n",
       "</div>"
      ],
      "text/plain": [
       "      Name  Age  Year\n",
       "1st   Imma   23  1999\n",
       "2nd  Segun   24  1998\n",
       "3rd   Taye   22  2000"
      ]
     },
     "execution_count": 72,
     "metadata": {},
     "output_type": "execute_result"
    }
   ],
   "source": [
    "# Name indexes\n",
    "df = pd.DataFrame(myFrame, index = [\"1st\", \"2nd\", \"3rd\"])\n",
    "df"
   ]
  },
  {
   "cell_type": "code",
   "execution_count": 73,
   "metadata": {},
   "outputs": [
    {
     "name": "stdout",
     "output_type": "stream",
     "text": [
      "Name    Imma\n",
      "Age       23\n",
      "Year    1999\n",
      "Name: 1st, dtype: object\n"
     ]
    }
   ],
   "source": [
    "#return named index\n",
    "print(df.loc[\"1st\"])"
   ]
  },
  {
   "cell_type": "code",
   "execution_count": 75,
   "metadata": {},
   "outputs": [
    {
     "name": "stdout",
     "output_type": "stream",
     "text": [
      "      Name  Age  Year\n",
      "1st   Imma   23  1999\n",
      "2nd  Segun   24  1998\n"
     ]
    }
   ],
   "source": [
    "#use a list of index\n",
    "print(df.loc[[\"1st\", \"2nd\"]])"
   ]
  },
  {
   "cell_type": "markdown",
   "metadata": {},
   "source": [
    "# PART 4"
   ]
  },
  {
   "cell_type": "markdown",
   "metadata": {},
   "source": [
    "## Pandas Read CSV Files"
   ]
  },
  {
   "cell_type": "code",
   "execution_count": 95,
   "metadata": {},
   "outputs": [],
   "source": [
    "# Loading CSV file into a Dataframe\n",
    "import pandas as pd\n",
    "df1 = pd.read_csv(\"index_of_stock.csv\")"
   ]
  },
  {
   "cell_type": "code",
   "execution_count": 85,
   "metadata": {},
   "outputs": [],
   "source": [
    "# print(df1)"
   ]
  },
  {
   "cell_type": "code",
   "execution_count": 82,
   "metadata": {},
   "outputs": [],
   "source": [
    "# print(df1.to_string())"
   ]
  },
  {
   "cell_type": "code",
   "execution_count": 83,
   "metadata": {},
   "outputs": [
    {
     "name": "stdout",
     "output_type": "stream",
     "text": [
      "60\n"
     ]
    }
   ],
   "source": [
    "#check the number of maximum row returned\n",
    "print(pd.options.display.max_rows)"
   ]
  },
  {
   "cell_type": "code",
   "execution_count": 87,
   "metadata": {},
   "outputs": [],
   "source": [
    "# output the first 5 items\n",
    "# print(df.head(5))"
   ]
  },
  {
   "cell_type": "code",
   "execution_count": 89,
   "metadata": {},
   "outputs": [],
   "source": [
    "# output the last 5 items\n",
    "# print(df.tail(5))"
   ]
  },
  {
   "cell_type": "markdown",
   "metadata": {},
   "source": [
    "# Pandas Read JSON file"
   ]
  },
  {
   "cell_type": "code",
   "execution_count": 90,
   "metadata": {},
   "outputs": [
    {
     "name": "stdout",
     "output_type": "stream",
     "text": [
      "Empty DataFrame\n",
      "Columns: []\n",
      "Index: []\n"
     ]
    }
   ],
   "source": [
    "import pandas as pd\n",
    "df = pd.read_json(\"links.json\")\n",
    "print(df)"
   ]
  },
  {
   "cell_type": "code",
   "execution_count": 91,
   "metadata": {},
   "outputs": [
    {
     "name": "stdout",
     "output_type": "stream",
     "text": [
      "Empty DataFrame\n",
      "Columns: []\n",
      "Index: []\n"
     ]
    }
   ],
   "source": [
    "# load json data to string\n",
    "print(df.to_string())"
   ]
  },
  {
   "cell_type": "markdown",
   "metadata": {},
   "source": [
    "#### Note -- json file iswidely used in tech, it is used to store big Data set. json is sam thing as a python dictionary."
   ]
  },
  {
   "cell_type": "code",
   "execution_count": 99,
   "metadata": {},
   "outputs": [],
   "source": [
    "#get info about the Data\n",
    "# df1.info()"
   ]
  },
  {
   "cell_type": "markdown",
   "metadata": {},
   "source": [
    "# DATA CLEANING"
   ]
  },
  {
   "cell_type": "markdown",
   "metadata": {},
   "source": [
    "###### Data cleaning simply means getting rid of Bad Data from your Data set\n",
    "###### Bad Data Could be any of the following\n",
    "###### 1} Empty cells\n",
    "###### 2} wrong format\n",
    "###### 3} Bad Data\n",
    "###### 4} Duplicates"
   ]
  },
  {
   "cell_type": "code",
   "execution_count": 138,
   "metadata": {},
   "outputs": [
    {
     "data": {
      "text/html": [
       "<div>\n",
       "<style scoped>\n",
       "    .dataframe tbody tr th:only-of-type {\n",
       "        vertical-align: middle;\n",
       "    }\n",
       "\n",
       "    .dataframe tbody tr th {\n",
       "        vertical-align: top;\n",
       "    }\n",
       "\n",
       "    .dataframe thead th {\n",
       "        text-align: right;\n",
       "    }\n",
       "</style>\n",
       "<table border=\"1\" class=\"dataframe\">\n",
       "  <thead>\n",
       "    <tr style=\"text-align: right;\">\n",
       "      <th></th>\n",
       "      <th>Duration</th>\n",
       "      <th>Pulse</th>\n",
       "      <th>Maxpulse</th>\n",
       "      <th>Calories</th>\n",
       "    </tr>\n",
       "  </thead>\n",
       "  <tbody>\n",
       "    <tr>\n",
       "      <th>0</th>\n",
       "      <td>60</td>\n",
       "      <td>110</td>\n",
       "      <td>130</td>\n",
       "      <td>409.1</td>\n",
       "    </tr>\n",
       "    <tr>\n",
       "      <th>1</th>\n",
       "      <td>60</td>\n",
       "      <td>117</td>\n",
       "      <td>145</td>\n",
       "      <td>479.0</td>\n",
       "    </tr>\n",
       "    <tr>\n",
       "      <th>2</th>\n",
       "      <td>60</td>\n",
       "      <td>103</td>\n",
       "      <td>135</td>\n",
       "      <td>340.0</td>\n",
       "    </tr>\n",
       "    <tr>\n",
       "      <th>3</th>\n",
       "      <td>45</td>\n",
       "      <td>109</td>\n",
       "      <td>175</td>\n",
       "      <td>282.4</td>\n",
       "    </tr>\n",
       "    <tr>\n",
       "      <th>4</th>\n",
       "      <td>45</td>\n",
       "      <td>117</td>\n",
       "      <td>148</td>\n",
       "      <td>406.0</td>\n",
       "    </tr>\n",
       "    <tr>\n",
       "      <th>5</th>\n",
       "      <td>60</td>\n",
       "      <td>102</td>\n",
       "      <td>127</td>\n",
       "      <td>300.0</td>\n",
       "    </tr>\n",
       "    <tr>\n",
       "      <th>6</th>\n",
       "      <td>60</td>\n",
       "      <td>110</td>\n",
       "      <td>136</td>\n",
       "      <td>374.0</td>\n",
       "    </tr>\n",
       "    <tr>\n",
       "      <th>7</th>\n",
       "      <td>45</td>\n",
       "      <td>104</td>\n",
       "      <td>134</td>\n",
       "      <td>253.3</td>\n",
       "    </tr>\n",
       "    <tr>\n",
       "      <th>8</th>\n",
       "      <td>30</td>\n",
       "      <td>109</td>\n",
       "      <td>133</td>\n",
       "      <td>195.1</td>\n",
       "    </tr>\n",
       "    <tr>\n",
       "      <th>9</th>\n",
       "      <td>60</td>\n",
       "      <td>98</td>\n",
       "      <td>124</td>\n",
       "      <td>269.0</td>\n",
       "    </tr>\n",
       "    <tr>\n",
       "      <th>10</th>\n",
       "      <td>60</td>\n",
       "      <td>103</td>\n",
       "      <td>147</td>\n",
       "      <td>329.3</td>\n",
       "    </tr>\n",
       "    <tr>\n",
       "      <th>11</th>\n",
       "      <td>60</td>\n",
       "      <td>100</td>\n",
       "      <td>120</td>\n",
       "      <td>250.7</td>\n",
       "    </tr>\n",
       "    <tr>\n",
       "      <th>12</th>\n",
       "      <td>60</td>\n",
       "      <td>106</td>\n",
       "      <td>128</td>\n",
       "      <td>345.3</td>\n",
       "    </tr>\n",
       "    <tr>\n",
       "      <th>13</th>\n",
       "      <td>60</td>\n",
       "      <td>104</td>\n",
       "      <td>132</td>\n",
       "      <td>379.3</td>\n",
       "    </tr>\n",
       "    <tr>\n",
       "      <th>14</th>\n",
       "      <td>60</td>\n",
       "      <td>98</td>\n",
       "      <td>123</td>\n",
       "      <td>275.0</td>\n",
       "    </tr>\n",
       "    <tr>\n",
       "      <th>15</th>\n",
       "      <td>60</td>\n",
       "      <td>98</td>\n",
       "      <td>120</td>\n",
       "      <td>215.2</td>\n",
       "    </tr>\n",
       "    <tr>\n",
       "      <th>16</th>\n",
       "      <td>60</td>\n",
       "      <td>100</td>\n",
       "      <td>120</td>\n",
       "      <td>300.0</td>\n",
       "    </tr>\n",
       "    <tr>\n",
       "      <th>17</th>\n",
       "      <td>45</td>\n",
       "      <td>90</td>\n",
       "      <td>112</td>\n",
       "      <td>NaN</td>\n",
       "    </tr>\n",
       "    <tr>\n",
       "      <th>18</th>\n",
       "      <td>60</td>\n",
       "      <td>103</td>\n",
       "      <td>123</td>\n",
       "      <td>323.0</td>\n",
       "    </tr>\n",
       "    <tr>\n",
       "      <th>19</th>\n",
       "      <td>45</td>\n",
       "      <td>97</td>\n",
       "      <td>125</td>\n",
       "      <td>243.0</td>\n",
       "    </tr>\n",
       "    <tr>\n",
       "      <th>20</th>\n",
       "      <td>60</td>\n",
       "      <td>108</td>\n",
       "      <td>131</td>\n",
       "      <td>364.2</td>\n",
       "    </tr>\n",
       "    <tr>\n",
       "      <th>21</th>\n",
       "      <td>45</td>\n",
       "      <td>100</td>\n",
       "      <td>119</td>\n",
       "      <td>282.0</td>\n",
       "    </tr>\n",
       "    <tr>\n",
       "      <th>22</th>\n",
       "      <td>60</td>\n",
       "      <td>130</td>\n",
       "      <td>101</td>\n",
       "      <td>300.0</td>\n",
       "    </tr>\n",
       "    <tr>\n",
       "      <th>23</th>\n",
       "      <td>45</td>\n",
       "      <td>105</td>\n",
       "      <td>132</td>\n",
       "      <td>246.0</td>\n",
       "    </tr>\n",
       "    <tr>\n",
       "      <th>24</th>\n",
       "      <td>60</td>\n",
       "      <td>102</td>\n",
       "      <td>126</td>\n",
       "      <td>334.5</td>\n",
       "    </tr>\n",
       "    <tr>\n",
       "      <th>25</th>\n",
       "      <td>60</td>\n",
       "      <td>100</td>\n",
       "      <td>120</td>\n",
       "      <td>250.0</td>\n",
       "    </tr>\n",
       "    <tr>\n",
       "      <th>26</th>\n",
       "      <td>60</td>\n",
       "      <td>92</td>\n",
       "      <td>118</td>\n",
       "      <td>241.0</td>\n",
       "    </tr>\n",
       "    <tr>\n",
       "      <th>27</th>\n",
       "      <td>60</td>\n",
       "      <td>103</td>\n",
       "      <td>132</td>\n",
       "      <td>NaN</td>\n",
       "    </tr>\n",
       "    <tr>\n",
       "      <th>28</th>\n",
       "      <td>60</td>\n",
       "      <td>100</td>\n",
       "      <td>132</td>\n",
       "      <td>280.0</td>\n",
       "    </tr>\n",
       "    <tr>\n",
       "      <th>29</th>\n",
       "      <td>60</td>\n",
       "      <td>102</td>\n",
       "      <td>129</td>\n",
       "      <td>380.3</td>\n",
       "    </tr>\n",
       "    <tr>\n",
       "      <th>30</th>\n",
       "      <td>60</td>\n",
       "      <td>92</td>\n",
       "      <td>115</td>\n",
       "      <td>243.0</td>\n",
       "    </tr>\n",
       "    <tr>\n",
       "      <th>31</th>\n",
       "      <td>45</td>\n",
       "      <td>90</td>\n",
       "      <td>112</td>\n",
       "      <td>180.1</td>\n",
       "    </tr>\n",
       "  </tbody>\n",
       "</table>\n",
       "</div>"
      ],
      "text/plain": [
       "    Duration  Pulse  Maxpulse  Calories\n",
       "0         60    110       130     409.1\n",
       "1         60    117       145     479.0\n",
       "2         60    103       135     340.0\n",
       "3         45    109       175     282.4\n",
       "4         45    117       148     406.0\n",
       "5         60    102       127     300.0\n",
       "6         60    110       136     374.0\n",
       "7         45    104       134     253.3\n",
       "8         30    109       133     195.1\n",
       "9         60     98       124     269.0\n",
       "10        60    103       147     329.3\n",
       "11        60    100       120     250.7\n",
       "12        60    106       128     345.3\n",
       "13        60    104       132     379.3\n",
       "14        60     98       123     275.0\n",
       "15        60     98       120     215.2\n",
       "16        60    100       120     300.0\n",
       "17        45     90       112       NaN\n",
       "18        60    103       123     323.0\n",
       "19        45     97       125     243.0\n",
       "20        60    108       131     364.2\n",
       "21        45    100       119     282.0\n",
       "22        60    130       101     300.0\n",
       "23        45    105       132     246.0\n",
       "24        60    102       126     334.5\n",
       "25        60    100       120     250.0\n",
       "26        60     92       118     241.0\n",
       "27        60    103       132       NaN\n",
       "28        60    100       132     280.0\n",
       "29        60    102       129     380.3\n",
       "30        60     92       115     243.0\n",
       "31        45     90       112     180.1"
      ]
     },
     "execution_count": 138,
     "metadata": {},
     "output_type": "execute_result"
    }
   ],
   "source": [
    "import pandas as pd\n",
    "file_cv = pd.read_csv(\"data.csv\")\n",
    "# file_cv\n",
    "csv_data = file_cv.head(32)\n",
    "csv_data"
   ]
  },
  {
   "cell_type": "markdown",
   "metadata": {},
   "source": [
    "# PART 1\n",
    "## cleaning Empty cells"
   ]
  },
  {
   "cell_type": "code",
   "execution_count": 115,
   "metadata": {},
   "outputs": [],
   "source": [
    "#  file_cv.head(32)"
   ]
  },
  {
   "cell_type": "code",
   "execution_count": 128,
   "metadata": {},
   "outputs": [],
   "source": [
    "# dropna() clears the row with the empty value\n",
    "import pandas as pd\n",
    "df = pd.read_csv(\"data.csv\")\n",
    "new_df = df.dropna(inplace = True)\n",
    "# new_df\n",
    "# Sample = new_df.head(32)\n",
    "#print(Sample.to_string())"
   ]
  },
  {
   "cell_type": "markdown",
   "metadata": {},
   "source": [
    "## df.dropna(inplace = True)--- This will remove all row with Null values in the original Dataframe."
   ]
  },
  {
   "cell_type": "code",
   "execution_count": 133,
   "metadata": {},
   "outputs": [],
   "source": [
    "# fill missing values using df.fillna()\n",
    "import pandas as pd\n",
    "df =  pd.read_csv(\"data.csv\")\n",
    "data2 = df.head(32)\n",
    "# data2.fillna(100, inplace = True)\n",
    "# data2"
   ]
  },
  {
   "cell_type": "markdown",
   "metadata": {},
   "source": [
    "### df.fillna(inplace = True)--- This will replace all missing values with the number specified in the Bracket."
   ]
  },
  {
   "cell_type": "code",
   "execution_count": 157,
   "metadata": {},
   "outputs": [
    {
     "name": "stdout",
     "output_type": "stream",
     "text": [
      "None\n"
     ]
    }
   ],
   "source": [
    "# Replace items for specified columns\n",
    "filled_data = csv_data[\"Calories\"].fillna(100, inplace = True)\n",
    "print(filled_data) #This will retun none because there are no longer NaN values.\n",
    "# csv_data"
   ]
  },
  {
   "cell_type": "markdown",
   "metadata": {},
   "source": [
    "### Filling missing values wwith Mean, Median, and mode"
   ]
  },
  {
   "cell_type": "code",
   "execution_count": 167,
   "metadata": {},
   "outputs": [],
   "source": [
    "#compute MEAN as missing values for calories\n",
    "import pandas as pd\n",
    "df = pd.read_csv(\"data.csv\")\n",
    "df_new = df.head(32)\n",
    "x = df_new[\"Calories\"].mean()\n",
    "df_new[\"Calories\"].fillna(x, inplace = True)\n",
    "# df_new"
   ]
  },
  {
   "cell_type": "code",
   "execution_count": 165,
   "metadata": {},
   "outputs": [],
   "source": [
    "#compute MEDIAN as missing values for calories\n",
    "import pandas as pd\n",
    "df = pd.read_csv(\"data.csv\")\n",
    "df_new = df.head(32)\n",
    "x = df_new[\"Calories\"].median()\n",
    "df_new[\"Calories\"].fillna(x, inplace = True)\n",
    "# df_new"
   ]
  },
  {
   "cell_type": "code",
   "execution_count": 170,
   "metadata": {},
   "outputs": [],
   "source": [
    "#compute MODE as missing values on calories\n",
    "import pandas as pd\n",
    "df = pd.read_csv(\"data.csv\")\n",
    "df_new = df.head(32)\n",
    "x = df_new[\"Calories\"].mode()[0]\n",
    "df_new[\"Calories\"].fillna(x, inplace = True)\n",
    "# df_new"
   ]
  },
  {
   "cell_type": "markdown",
   "metadata": {},
   "source": [
    "## Cleaning Wrong Format\n",
    "##### wrong Data fromat can make it imosssible for data to be analyzed, hence its either the row is cleared or corrected to the actual right format."
   ]
  },
  {
   "cell_type": "code",
   "execution_count": 1,
   "metadata": {},
   "outputs": [],
   "source": [
    "# notice on line 22 of date column an NaN, notice on 26 the date wasnt written in a string format \n",
    "import pandas as pd \n",
    "df = pd.read_csv(\"dirtydata.csv\")\n",
    "df_32 = df.head(32)\n",
    "# df_32\n",
    "\n",
    "# use the pandas to_datetime() function to convert every NaN to a string\n",
    "df_32[\"Date\"] = pd.to_datetime(df_32[\"Date\"])\n",
    "df_32.dropna(subset =[\"Date\"], inplace = True)\n",
    "#print(df_32[\"Date\"].to_string())"
   ]
  },
  {
   "cell_type": "markdown",
   "metadata": {},
   "source": [
    "## Cleaning Wrong Data"
   ]
  },
  {
   "cell_type": "markdown",
   "metadata": {},
   "source": [
    "#### Replacing Values"
   ]
  },
  {
   "cell_type": "code",
   "execution_count": 4,
   "metadata": {},
   "outputs": [
    {
     "name": "stdout",
     "output_type": "stream",
     "text": [
      "   Duration          Date  Pulse  Maxpulse  Calories\n",
      "0        60  '2020/12/01'    110       130     409.1\n",
      "1        60  '2020/12/02'    117       145     479.0\n",
      "2        60  '2020/12/03'    103       135     340.0\n",
      "3        45  '2020/12/04'    109       175     282.4\n",
      "4        45  '2020/12/05'    117       148     406.0\n",
      "5        60  '2020/12/06'    102       127     300.0\n",
      "6        60  '2020/12/07'    110       136     374.0\n",
      "7       450  '2020/12/08'    104       134     253.3\n",
      "8        30  '2020/12/09'    109       133     195.1\n",
      "9        60  '2020/12/10'     98       124     269.0\n"
     ]
    }
   ],
   "source": [
    "import pandas as pd\n",
    "df = pd.read_csv(\"dirtydata.csv\")\n",
    "new_data = df.head(10)\n",
    "print(new_data)"
   ]
  },
  {
   "cell_type": "code",
   "execution_count": 11,
   "metadata": {},
   "outputs": [],
   "source": [
    "# Chnage 450 on row 7 to 45\n",
    "new_data.loc[7, \"Duration\"] = 45"
   ]
  },
  {
   "cell_type": "code",
   "execution_count": 12,
   "metadata": {},
   "outputs": [
    {
     "name": "stdout",
     "output_type": "stream",
     "text": [
      "   Duration          Date  Pulse  Maxpulse  Calories\n",
      "0        60  '2020/12/01'    110       130     409.1\n",
      "1        60  '2020/12/02'    117       145     479.0\n",
      "2        60  '2020/12/03'    103       135     340.0\n",
      "3        45  '2020/12/04'    109       175     282.4\n",
      "4        45  '2020/12/05'    117       148     406.0\n",
      "5        60  '2020/12/06'    102       127     300.0\n",
      "6        60  '2020/12/07'    110       136     374.0\n",
      "7        45  '2020/12/08'    104       134     253.3\n",
      "8        30  '2020/12/09'    109       133     195.1\n",
      "9        60  '2020/12/10'     98       124     269.0\n"
     ]
    }
   ],
   "source": [
    "print(new_data)"
   ]
  },
  {
   "cell_type": "code",
   "execution_count": 28,
   "metadata": {},
   "outputs": [
    {
     "name": "stdout",
     "output_type": "stream",
     "text": [
      "   Duration          Date  Pulse  Maxpulse  Calories\n",
      "0        45  '2020/12/01'    110       130     409.1\n",
      "1        45  '2020/12/02'    117       145     479.0\n",
      "2        45  '2020/12/03'    103       135     340.0\n",
      "3        45  '2020/12/04'    109       175     282.4\n",
      "4        45  '2020/12/05'    117       148     406.0\n",
      "5        45  '2020/12/06'    102       127     300.0\n",
      "6        45  '2020/12/07'    110       136     374.0\n",
      "7        45  '2020/12/08'    104       134     253.3\n",
      "8        30  '2020/12/09'    109       133     195.1\n",
      "9        45  '2020/12/10'     98       124     269.0\n"
     ]
    }
   ],
   "source": [
    "#loop through all values on the Duration column, and replace it with 45 if its greater.\n",
    "for i in new_data.index:\n",
    "    if new_data.loc[i, \"Duration\"] ==60:\n",
    "        new_data.loc[i, \"Duration\"] = 45\n",
    "print(new_data)"
   ]
  },
  {
   "cell_type": "markdown",
   "metadata": {},
   "source": [
    "#### Removing Rows"
   ]
  },
  {
   "cell_type": "code",
   "execution_count": 30,
   "metadata": {},
   "outputs": [
    {
     "name": "stdout",
     "output_type": "stream",
     "text": [
      "   Duration          Date  Pulse  Maxpulse  Calories\n",
      "2        45  '2020/12/03'    103       135     340.0\n",
      "3        45  '2020/12/04'    109       175     282.4\n",
      "5        45  '2020/12/06'    102       127     300.0\n",
      "7        45  '2020/12/08'    104       134     253.3\n",
      "8        30  '2020/12/09'    109       133     195.1\n",
      "9        45  '2020/12/10'     98       124     269.0\n"
     ]
    }
   ],
   "source": [
    "for x in new_data.index:\n",
    "    if new_data.loc[x, \"Calories\"] > 340:\n",
    "        new_data.drop(x, inplace = True)\n",
    "print(new_data.to_string())"
   ]
  },
  {
   "cell_type": "markdown",
   "metadata": {},
   "source": [
    "#### Discovering Duplicates"
   ]
  },
  {
   "cell_type": "code",
   "execution_count": 50,
   "metadata": {},
   "outputs": [
    {
     "name": "stdout",
     "output_type": "stream",
     "text": [
      "    Duration  Pulse  Maxpulse  Calories\n",
      "0         60    110       130     409.1\n",
      "1         60    117       145     479.0\n",
      "2         60    103       135     340.0\n",
      "3         45    109       175     282.4\n",
      "4         45    117       148     406.0\n",
      "5         60    102       127     300.0\n",
      "6         60    110       136     374.0\n",
      "7         45    104       134     253.3\n",
      "8         30    109       133     195.1\n",
      "9         60     98       124     269.0\n",
      "10        60    103       147     329.3\n",
      "11        60    100       120     250.7\n",
      "12        60    106       128     345.3\n",
      "13        60    104       132     379.3\n",
      "14        60     98       123     275.0\n"
     ]
    }
   ],
   "source": [
    "#duplicates in numbers 11 and 12\n",
    "see = df.head(15)\n",
    "print(see)"
   ]
  },
  {
   "cell_type": "markdown",
   "metadata": {},
   "source": [
    "##### To check for Duplicates, we use the function duplicated(). it returns a boolean value for each row and true for any row with duplicate values"
   ]
  },
  {
   "cell_type": "code",
   "execution_count": 51,
   "metadata": {},
   "outputs": [
    {
     "name": "stdout",
     "output_type": "stream",
     "text": [
      "0     False\n",
      "1     False\n",
      "2     False\n",
      "3     False\n",
      "4     False\n",
      "5     False\n",
      "6     False\n",
      "7     False\n",
      "8     False\n",
      "9     False\n",
      "10    False\n",
      "11    False\n",
      "12    False\n",
      "13    False\n",
      "14    False\n",
      "dtype: bool\n"
     ]
    }
   ],
   "source": [
    "print(see.duplicated())"
   ]
  },
  {
   "cell_type": "code",
   "execution_count": 45,
   "metadata": {},
   "outputs": [
    {
     "name": "stdout",
     "output_type": "stream",
     "text": [
      "    Duration  Pulse  Maxpulse  Calories\n",
      "0         60    110       130     409.1\n",
      "1         60    117       145     479.0\n",
      "2         60    103       135     340.0\n",
      "3         45    109       175     282.4\n",
      "4         45    117       148     406.0\n",
      "5         60    102       127     300.0\n",
      "6         60    110       136     374.0\n",
      "7         45    104       134     253.3\n",
      "8         30    109       133     195.1\n",
      "9         60     98       124     269.0\n",
      "10        60    103       147     329.3\n",
      "11        60    100       120     250.7\n",
      "12        60    106       128     345.3\n",
      "13        60    104       132     379.3\n",
      "14        60     98       123     275.0\n"
     ]
    }
   ],
   "source": [
    "#remove Duplicates\n",
    "print(see.drop_duplicates())"
   ]
  },
  {
   "cell_type": "markdown",
   "metadata": {},
   "source": [
    "### Plotting with Pandas"
   ]
  },
  {
   "cell_type": "code",
   "execution_count": 39,
   "metadata": {},
   "outputs": [],
   "source": [
    "#pandas uses the plot() function tpo create diagrams\n",
    "#pyplot a submodule of matplotlib is used to visualize the Data on screen"
   ]
  },
  {
   "cell_type": "code",
   "execution_count": 41,
   "metadata": {},
   "outputs": [
    {
     "data": {
      "image/png": "[encoded data removed]",
      "text/plain": [
       "<Figure size 432x288 with 1 Axes>"
      ]
     },
     "metadata": {
      "needs_background": "light"
     },
     "output_type": "display_data"
    }
   ],
   "source": [
    "import pandas as pd\n",
    "import matplotlib.pyplot as plt\n",
    "df = pd.read_csv(\"Data.csv\")\n",
    "df.plot()\n",
    "plt.show();"
   ]
  },
  {
   "cell_type": "code",
   "execution_count": 53,
   "metadata": {},
   "outputs": [
    {
     "data": {
      "image/png": "[encoded data removed]",
      "text/plain": [
       "<Figure size 432x288 with 1 Axes>"
      ]
     },
     "metadata": {
      "needs_background": "light"
     },
     "output_type": "display_data"
    }
   ],
   "source": [
    "#create a scatter plot of Duration against Calories\n",
    "import pandas as pd\n",
    "import matplotlib.pyplot as plt\n",
    "df.plot(kind = \"scatter\", x = \"Duration\", y = \"Calories\")\n",
    "plt.show()"
   ]
  },
  {
   "cell_type": "markdown",
   "metadata": {},
   "source": [
    "###### remember using corr() function we learnt that calories and duration had a perfect correlation of 0.789325, which means an increase in duration will lead to more calories burnt."
   ]
  },
  {
   "cell_type": "code",
   "execution_count": 55,
   "metadata": {},
   "outputs": [
    {
     "data": {
      "text/html": [
       "<div>\n",
       "<style scoped>\n",
       "    .dataframe tbody tr th:only-of-type {\n",
       "        vertical-align: middle;\n",
       "    }\n",
       "\n",
       "    .dataframe tbody tr th {\n",
       "        vertical-align: top;\n",
       "    }\n",
       "\n",
       "    .dataframe thead th {\n",
       "        text-align: right;\n",
       "    }\n",
       "</style>\n",
       "<table border=\"1\" class=\"dataframe\">\n",
       "  <thead>\n",
       "    <tr style=\"text-align: right;\">\n",
       "      <th></th>\n",
       "      <th>Duration</th>\n",
       "      <th>Pulse</th>\n",
       "      <th>Maxpulse</th>\n",
       "      <th>Calories</th>\n",
       "    </tr>\n",
       "  </thead>\n",
       "  <tbody>\n",
       "    <tr>\n",
       "      <th>Duration</th>\n",
       "      <td>1.000000</td>\n",
       "      <td>-0.555539</td>\n",
       "      <td>0.131458</td>\n",
       "      <td>0.789325</td>\n",
       "    </tr>\n",
       "    <tr>\n",
       "      <th>Pulse</th>\n",
       "      <td>-0.555539</td>\n",
       "      <td>1.000000</td>\n",
       "      <td>0.677415</td>\n",
       "      <td>-0.425198</td>\n",
       "    </tr>\n",
       "    <tr>\n",
       "      <th>Maxpulse</th>\n",
       "      <td>0.131458</td>\n",
       "      <td>0.677415</td>\n",
       "      <td>1.000000</td>\n",
       "      <td>0.082732</td>\n",
       "    </tr>\n",
       "    <tr>\n",
       "      <th>Calories</th>\n",
       "      <td>0.789325</td>\n",
       "      <td>-0.425198</td>\n",
       "      <td>0.082732</td>\n",
       "      <td>1.000000</td>\n",
       "    </tr>\n",
       "  </tbody>\n",
       "</table>\n",
       "</div>"
      ],
      "text/plain": [
       "          Duration     Pulse  Maxpulse  Calories\n",
       "Duration  1.000000 -0.555539  0.131458  0.789325\n",
       "Pulse    -0.555539  1.000000  0.677415 -0.425198\n",
       "Maxpulse  0.131458  0.677415  1.000000  0.082732\n",
       "Calories  0.789325 -0.425198  0.082732  1.000000"
      ]
     },
     "execution_count": 55,
     "metadata": {},
     "output_type": "execute_result"
    }
   ],
   "source": [
    "new_data.corr()"
   ]
  },
  {
   "cell_type": "code",
   "execution_count": 56,
   "metadata": {},
   "outputs": [
    {
     "data": {
      "image/png": "[encoded data removed]",
      "text/plain": [
       "<Figure size 432x288 with 1 Axes>"
      ]
     },
     "metadata": {
      "needs_background": "light"
     },
     "output_type": "display_data"
    }
   ],
   "source": [
    "# create another plot of values with poor corelation\n",
    "import pandas as pd\n",
    "import matplotlib.pyplot as plt\n",
    "df.plot(kind = \"scatter\", x = \"Duration\", y = \"Maxpulse\")\n",
    "plt.show()"
   ]
  },
  {
   "cell_type": "markdown",
   "metadata": {},
   "source": [
    "###### an histogram requires just one column, an instagram is used to show the frequency."
   ]
  },
  {
   "cell_type": "code",
   "execution_count": 57,
   "metadata": {},
   "outputs": [
    {
     "data": {
      "image/png": "[encoded data removed]",
      "text/plain": [
       "<Figure size 432x288 with 1 Axes>"
      ]
     },
     "metadata": {
      "needs_background": "light"
     },
     "output_type": "display_data"
    }
   ],
   "source": [
    "df[\"Duration\"].plot(kind = \"hist\")\n",
    "plt.show()"
   ]
  },
  {
   "cell_type": "code",
   "execution_count": null,
   "metadata": {},
   "outputs": [],
   "source": []
  }
 ],
 "metadata": {
  "kernelspec": {
   "display_name": "Python 3",
   "language": "python",
   "name": "python3"
  },
  "language_info": {
   "codemirror_mode": {
    "name": "ipython",
    "version": 3
   },
   "file_extension": ".py",
   "mimetype": "text/x-python",
   "name": "python",
   "nbconvert_exporter": "python",
   "pygments_lexer": "ipython3",
   "version": "3.7.3"
  }
 },
 "nbformat": 4,
 "nbformat_minor": 4
}
